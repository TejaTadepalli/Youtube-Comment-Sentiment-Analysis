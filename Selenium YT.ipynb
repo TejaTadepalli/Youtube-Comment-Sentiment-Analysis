{
 "cells": [
  {
   "cell_type": "code",
   "execution_count": 1,
   "id": "a54f088f",
   "metadata": {},
   "outputs": [
    {
     "name": "stdout",
     "output_type": "stream",
     "text": [
      "\n",
      " So exciting! Thank you guys so much!\n",
      "\n",
      " those verses go so hard. the queen of songwriting is BACK baby\n",
      "\n",
      " we all Know the album gone be fire! we need more ASAP!! i loved this.\n",
      "\n",
      " I miss you Julia Michaels, the vibe of this song is so immacculate.\n",
      "\n",
      " To whoever is listening to this song now, wherever you are.... Sending you love, peace, healing and all good wishes. May your life be good\n",
      "\n",
      " independent juliaaaaa let’s gooooooooo!!!!!!! i LOVE this! you’re finally free!\n",
      "\n",
      " Trumpet player needs more recognition, that was amazing!!️ it made the song better than it already was such a vibe \n",
      "\n",
      " Your music will always be seeded inside my soul. For some reasons I get nostalgic listening to your voice.\n",
      "\n",
      " Girlllll where have you been?! Or I have just been under a rock for a while. Love this queen!!!\n",
      "\n",
      " Julia Michaels genuinely one of the most talented artists working today <3\n",
      "\n",
      " BRINGING US EXACTLY WHAT WE NEED & WHEN WE NEED IT! YES, I AM SCREAMING AHHHH \n",
      "\n",
      " I love you, Julia! I'm here for your soft life era! You look so happy and I wish you much more good fortune coming your way. \n",
      "\n",
      " Song has been in my head for 4 days \n",
      "\n",
      " She drops a banger (s) every year.\n",
      "I always look forward to listening \n",
      "\n",
      " This was just what we needed \n",
      "\n",
      " the album is gonna be HEAVEN.\n",
      "\n",
      " Aways happy to have Julia drop.\n",
      "\n",
      " i've looked up to you / followed your journey since the beginning. love this era for you <3\n",
      "\n",
      " One of the best songs released this year! On repeat! Absolutely stunning song & visuals! You delivered Queen! ️\n",
      "\n",
      " I don’t know why but every time I hear Julia’s voice I feel good, maybe because I listened to her when I was pregnant \n",
      "\n",
      "The trumpet sounds so fresh, thank you Julia for another masterpiece!\n",
      "\n",
      " We all miss Julia Michaels!!!!\n",
      "\n",
      " I'm in love with this one.\n",
      "Julia knows what she does.\n",
      "\n",
      " I follow the artist for the album cover/thumb nail and had to click. First time listener and I think I’m in love!️\n",
      "\n",
      " Nice to see you again! Always loved you \n",
      "\n",
      " We love you Julia, Thank you \n",
      "\n",
      " So happy to see you back, Julia!!! \n",
      "\n",
      " this really feels like julia. i adore that\n",
      "\n",
      " She's back!! \n",
      "\n",
      " Love this. So happy we're getting new music from you. Proud of you always.\n",
      "\n",
      " julia, the most talented queen you are: this song is SO GOOD \n",
      "\n",
      " Thank you for blessing us!\n",
      "\n",
      " I'm crying because I'm so proud of you and I missed you like crazy I love you forever Julia \n",
      "\n",
      " Love from Japan🇯🇵\n",
      "\n",
      " So Great Song  !!! Thank you  !!!\n",
      "\n",
      " Not Julia with another masterpiece \n",
      "\n",
      " INCREDIBLE song writing!\n",
      "\n",
      " JULESSSSSS I LOVEEEEE IT\n",
      "\n",
      " Oh, how we've been missing you baby!\n",
      "\n",
      " What a celebration of loveeee\n",
      "\n",
      " was here. I'm seriously annoyingly happy. Thank you so much for creating this song\n"
     ]
    }
   ],
   "source": [
    "link = input('Enter the link: ')\n",
    "comments = []\n",
    "\n",
    "import time\n",
    "from selenium import webdriver\n",
    "from selenium.webdriver import Chrome\n",
    "from selenium.webdriver.common.by import By\n",
    "from selenium.webdriver.common.keys import Keys\n",
    "from selenium.webdriver.support.ui import WebDriverWait\n",
    "from selenium.webdriver.support import expected_conditions as EC\n",
    "\n",
    "\n",
    "op = webdriver.ChromeOptions()\n",
    "op.add_argument('headless')\n",
    "\n",
    "with Chrome(options=op) as driver:\n",
    "    wait = WebDriverWait(driver,10)\n",
    "    driver.get(link)\n",
    "\n",
    "    for item in range(3): #by increasing the highest range you can get more content\n",
    "        wait.until(EC.visibility_of_element_located((By.TAG_NAME, \"body\"))).send_keys(Keys.END)\n",
    "        time.sleep(3)\n",
    "\n",
    "    for comment in wait.until(EC.presence_of_all_elements_located((By.CSS_SELECTOR, \"#comment #content-text\"))):\n",
    "        x = comment.text\n",
    "        comments.append(x)\n",
    "        print(\"\\n\",comment.text)"
   ]
  },
  {
   "cell_type": "code",
   "execution_count": 2,
   "id": "d18369c5",
   "metadata": {},
   "outputs": [],
   "source": [
    "# https://www.youtube.com/watch?v=npFE7NIy574"
   ]
  },
  {
   "cell_type": "code",
   "execution_count": 2,
   "id": "09afdf1e",
   "metadata": {},
   "outputs": [
    {
     "name": "stdout",
     "output_type": "stream",
     "text": [
      "['So exciting! Thank you guys so much!', 'those verses go so hard. the queen of songwriting is BACK baby', 'we all Know the album gone be fire! we need more ASAP!! i loved this.', 'I miss you Julia Michaels, the vibe of this song is so immacculate.', 'To whoever is listening to this song now, wherever you are.... Sending you love, peace, healing and all good wishes. May your life be good', 'independent juliaaaaa let’s gooooooooo!!!!!!! i LOVE this! you’re finally free!', 'Trumpet player needs more recognition, that was amazing!!️ it made the song better than it already was such a vibe ', 'Your music will always be seeded inside my soul. For some reasons I get nostalgic listening to your voice.', 'Girlllll where have you been?! Or I have just been under a rock for a while. Love this queen!!!', 'Julia Michaels genuinely one of the most talented artists working today <3', 'BRINGING US EXACTLY WHAT WE NEED & WHEN WE NEED IT! YES, I AM SCREAMING AHHHH ', \"I love you, Julia! I'm here for your soft life era! You look so happy and I wish you much more good fortune coming your way. \", 'Song has been in my head for 4 days ', 'She drops a banger (s) every year.\\nI always look forward to listening ', 'This was just what we needed ', 'the album is gonna be HEAVEN.', 'Aways happy to have Julia drop.', \"i've looked up to you / followed your journey since the beginning. love this era for you <3\", 'One of the best songs released this year! On repeat! Absolutely stunning song & visuals! You delivered Queen! ️', 'I don’t know why but every time I hear Julia’s voice I feel good, maybe because I listened to her when I was pregnant \\n\\nThe trumpet sounds so fresh, thank you Julia for another masterpiece!', 'We all miss Julia Michaels!!!!', \"I'm in love with this one.\\nJulia knows what she does.\", 'I follow the artist for the album cover/thumb nail and had to click. First time listener and I think I’m in love!️', 'Nice to see you again! Always loved you ', 'We love you Julia, Thank you ', 'So happy to see you back, Julia!!! ', 'this really feels like julia. i adore that', \"She's back!! \", \"Love this. So happy we're getting new music from you. Proud of you always.\", 'julia, the most talented queen you are: this song is SO GOOD ', 'Thank you for blessing us!', \"I'm crying because I'm so proud of you and I missed you like crazy I love you forever Julia \", 'Love from Japan🇯🇵', 'So Great Song  !!! Thank you  !!!', 'Not Julia with another masterpiece ', 'INCREDIBLE song writing!', 'JULESSSSSS I LOVEEEEE IT', \"Oh, how we've been missing you baby!\", 'What a celebration of loveeee', \"was here. I'm seriously annoyingly happy. Thank you so much for creating this song\"]\n"
     ]
    }
   ],
   "source": [
    "print(comments)"
   ]
  },
  {
   "cell_type": "code",
   "execution_count": 3,
   "id": "6b39a543",
   "metadata": {},
   "outputs": [
    {
     "name": "stdout",
     "output_type": "stream",
     "text": [
      "                                              Comment\n",
      "0                So exciting! Thank you guys so much!\n",
      "1   those verses go so hard. the queen of songwrit...\n",
      "2   we all Know the album gone be fire! we need mo...\n",
      "3   I miss you Julia Michaels, the vibe of this so...\n",
      "4   To whoever is listening to this song now, wher...\n",
      "5   independent juliaaaaa let’s gooooooooo!!!!!!! ...\n",
      "6   Trumpet player needs more recognition, that wa...\n",
      "7   Your music will always be seeded inside my sou...\n",
      "8   Girlllll where have you been?! Or I have just ...\n",
      "9   Julia Michaels genuinely one of the most talen...\n",
      "10  BRINGING US EXACTLY WHAT WE NEED & WHEN WE NEE...\n",
      "11  I love you, Julia! I'm here for your soft life...\n",
      "12               Song has been in my head for 4 days \n",
      "13  She drops a banger (s) every year.\\nI always l...\n",
      "14                      This was just what we needed \n",
      "15                      the album is gonna be HEAVEN.\n",
      "16                    Aways happy to have Julia drop.\n",
      "17  i've looked up to you / followed your journey ...\n",
      "18  One of the best songs released this year! On r...\n",
      "19  I don’t know why but every time I hear Julia’s...\n",
      "20                     We all miss Julia Michaels!!!!\n",
      "21  I'm in love with this one.\\nJulia knows what s...\n",
      "22  I follow the artist for the album cover/thumb ...\n",
      "23           Nice to see you again! Always loved you \n",
      "24                      We love you Julia, Thank you \n",
      "25                So happy to see you back, Julia!!! \n",
      "26         this really feels like julia. i adore that\n",
      "27                                      She's back!! \n",
      "28  Love this. So happy we're getting new music fr...\n",
      "29  julia, the most talented queen you are: this s...\n",
      "30                         Thank you for blessing us!\n",
      "31  I'm crying because I'm so proud of you and I m...\n",
      "32                                  Love from Japan🇯🇵\n",
      "33                  So Great Song  !!! Thank you  !!!\n",
      "34                Not Julia with another masterpiece \n",
      "35                           INCREDIBLE song writing!\n",
      "36                           JULESSSSSS I LOVEEEEE IT\n",
      "37               Oh, how we've been missing you baby!\n",
      "38                      What a celebration of loveeee\n",
      "39  was here. I'm seriously annoyingly happy. Than...\n"
     ]
    }
   ],
   "source": [
    "import pandas as pd\n",
    "import numpy as np\n",
    "import re\n",
    "import seaborn as sns\n",
    "import matplotlib.pyplot as plt\n",
    "from matplotlib import style\n",
    "style.use('ggplot')\n",
    "#from textblob import TextBlob\n",
    "from nltk.tokenize import word_tokenize\n",
    "from nltk.stem import PorterStemmer\n",
    "from nltk.corpus import stopwords\n",
    "stop_words = set(stopwords.words('english'))\n",
    "#from wordcloud import WordCloud\n",
    "from sklearn.feature_extraction.text import CountVectorizer\n",
    "from sklearn.model_selection import train_test_split\n",
    "from sklearn.linear_model import LogisticRegression\n",
    "from sklearn.metrics import accuracy_score, classification_report, confusion_matrix, ConfusionMatrixDisplay\n",
    "df = pd.DataFrame(comments,columns=[\"Comment\"])\n",
    "\n",
    "print(df)"
   ]
  },
  {
   "cell_type": "code",
   "execution_count": 4,
   "id": "772a300b",
   "metadata": {},
   "outputs": [],
   "source": [
    "def data_processing(text):\n",
    "    text = str(text)\n",
    "    if not isinstance(text, str):\n",
    "        return None\n",
    "    text = re.sub(r\"https\\S+|www\\S+https\\S+\", '', text, flags=re.MULTILINE)\n",
    "    ...\n",
    "\n",
    "    \n",
    "    text = text.lower()\n",
    "    text = re.sub(r\"https\\S+|www\\S+https\\S+\", '',text, flags=re.MULTILINE)\n",
    "    text = re.sub(r'\\@w+|\\#','',text)\n",
    "    text = re.sub(r'[^\\w\\s]','',text)\n",
    "    text_tokens = word_tokenize(text)\n",
    "    filtered_text = [w for w in text_tokens if not w in stop_words]\n",
    "    return \" \".join(filtered_text)"
   ]
  },
  {
   "cell_type": "code",
   "execution_count": 5,
   "id": "c50158bb",
   "metadata": {},
   "outputs": [
    {
     "name": "stderr",
     "output_type": "stream",
     "text": [
      "[nltk_data] Downloading package punkt to\n",
      "[nltk_data]     C:\\Users\\tejat\\AppData\\Roaming\\nltk_data...\n",
      "[nltk_data]   Package punkt is already up-to-date!\n",
      "C:\\Users\\tejat\\AppData\\Local\\Temp\\ipykernel_29960\\2968911166.py:4: UserWarning: Pandas doesn't allow columns to be created via a new attribute name - see https://pandas.pydata.org/pandas-docs/stable/indexing.html#attribute-access\n",
      "  df.text = df['Comment'].apply(data_processing)\n"
     ]
    }
   ],
   "source": [
    "import nltk\n",
    "nltk.download('punkt')\n",
    "\n",
    "df.text = df['Comment'].apply(data_processing)"
   ]
  },
  {
   "cell_type": "code",
   "execution_count": 6,
   "id": "2cef7b5e",
   "metadata": {},
   "outputs": [],
   "source": [
    "df = df.drop_duplicates('Comment')"
   ]
  },
  {
   "cell_type": "code",
   "execution_count": 7,
   "id": "c04f5ce2",
   "metadata": {},
   "outputs": [],
   "source": [
    "stemmer = PorterStemmer()\n",
    "def stemming(data):\n",
    "    text = [stemmer.stem(word) for word in data]\n",
    "    return data"
   ]
  },
  {
   "cell_type": "code",
   "execution_count": 8,
   "id": "f831e566",
   "metadata": {},
   "outputs": [],
   "source": [
    "df['Comment'] = df['Comment'].apply(lambda x: stemming(x) if isinstance(x, str) else x)"
   ]
  },
  {
   "cell_type": "code",
   "execution_count": 9,
   "id": "288b3bfb",
   "metadata": {},
   "outputs": [
    {
     "data": {
      "text/html": [
       "<div>\n",
       "<style scoped>\n",
       "    .dataframe tbody tr th:only-of-type {\n",
       "        vertical-align: middle;\n",
       "    }\n",
       "\n",
       "    .dataframe tbody tr th {\n",
       "        vertical-align: top;\n",
       "    }\n",
       "\n",
       "    .dataframe thead th {\n",
       "        text-align: right;\n",
       "    }\n",
       "</style>\n",
       "<table border=\"1\" class=\"dataframe\">\n",
       "  <thead>\n",
       "    <tr style=\"text-align: right;\">\n",
       "      <th></th>\n",
       "      <th>Comment</th>\n",
       "    </tr>\n",
       "  </thead>\n",
       "  <tbody>\n",
       "    <tr>\n",
       "      <th>0</th>\n",
       "      <td>So exciting! Thank you guys so much!</td>\n",
       "    </tr>\n",
       "    <tr>\n",
       "      <th>1</th>\n",
       "      <td>those verses go so hard. the queen of songwrit...</td>\n",
       "    </tr>\n",
       "    <tr>\n",
       "      <th>2</th>\n",
       "      <td>we all Know the album gone be fire! we need mo...</td>\n",
       "    </tr>\n",
       "    <tr>\n",
       "      <th>3</th>\n",
       "      <td>I miss you Julia Michaels, the vibe of this so...</td>\n",
       "    </tr>\n",
       "    <tr>\n",
       "      <th>4</th>\n",
       "      <td>To whoever is listening to this song now, wher...</td>\n",
       "    </tr>\n",
       "  </tbody>\n",
       "</table>\n",
       "</div>"
      ],
      "text/plain": [
       "                                             Comment\n",
       "0               So exciting! Thank you guys so much!\n",
       "1  those verses go so hard. the queen of songwrit...\n",
       "2  we all Know the album gone be fire! we need mo...\n",
       "3  I miss you Julia Michaels, the vibe of this so...\n",
       "4  To whoever is listening to this song now, wher..."
      ]
     },
     "execution_count": 9,
     "metadata": {},
     "output_type": "execute_result"
    }
   ],
   "source": [
    "df.head()"
   ]
  },
  {
   "cell_type": "code",
   "execution_count": 10,
   "id": "fff76a4b",
   "metadata": {},
   "outputs": [
    {
     "name": "stdout",
     "output_type": "stream",
     "text": [
      "So exciting! Thank you guys so much! \n",
      "\n",
      "those verses go so hard. the queen of songwriting is BACK baby \n",
      "\n",
      "we all Know the album gone be fire! we need more ASAP!! i loved this. \n",
      "\n",
      "I miss you Julia Michaels, the vibe of this song is so immacculate. \n",
      "\n",
      "To whoever is listening to this song now, wherever you are.... Sending you love, peace, healing and all good wishes. May your life be good \n",
      "\n"
     ]
    }
   ],
   "source": [
    "print(df['Comment'].iloc[0],\"\\n\")\n",
    "print(df['Comment'].iloc[1],\"\\n\")\n",
    "print(df['Comment'].iloc[2],\"\\n\")\n",
    "print(df['Comment'].iloc[3],\"\\n\")\n",
    "print(df['Comment'].iloc[4],\"\\n\")"
   ]
  },
  {
   "cell_type": "code",
   "execution_count": 11,
   "id": "ff7dd90a",
   "metadata": {},
   "outputs": [],
   "source": [
    "df['Comment'].fillna('', inplace=True)"
   ]
  },
  {
   "cell_type": "code",
   "execution_count": 13,
   "id": "ca73a318",
   "metadata": {},
   "outputs": [
    {
     "name": "stderr",
     "output_type": "stream",
     "text": [
      "  WARNING: The script nltk.exe is installed in 'C:\\Users\\tejat\\AppData\\Roaming\\Python\\Python311\\Scripts' which is not on PATH.\n",
      "  Consider adding this directory to PATH or, if you prefer to suppress this warning, use --no-warn-script-location.\n",
      "ERROR: pip's dependency resolver does not currently take into account all the packages that are installed. This behaviour is the source of the following dependency conflicts.\n",
      "label-studio-converter 0.0.54rc0 requires nltk==3.6.7, but you have nltk 3.9.1 which is incompatible.\n",
      "label-studio-converter 0.0.54rc0 requires Pillow==9.3.0, but you have pillow 9.5.0 which is incompatible.\n"
     ]
    },
    {
     "name": "stdout",
     "output_type": "stream",
     "text": [
      "Defaulting to user installation because normal site-packages is not writeable\n",
      "Collecting TextBlob\n",
      "  Obtaining dependency information for TextBlob from https://files.pythonhosted.org/packages/02/07/5fd2945356dd839974d3a25de8a142dc37293c21315729a41e775b5f3569/textblob-0.18.0.post0-py3-none-any.whl.metadata\n",
      "  Downloading textblob-0.18.0.post0-py3-none-any.whl.metadata (4.5 kB)\n",
      "Collecting nltk>=3.8 (from TextBlob)\n",
      "  Obtaining dependency information for nltk>=3.8 from https://files.pythonhosted.org/packages/4d/66/7d9e26593edda06e8cb531874633f7c2372279c3b0f46235539fe546df8b/nltk-3.9.1-py3-none-any.whl.metadata\n",
      "  Downloading nltk-3.9.1-py3-none-any.whl.metadata (2.9 kB)\n",
      "Requirement already satisfied: click in c:\\programdata\\anaconda3\\lib\\site-packages (from nltk>=3.8->TextBlob) (8.0.4)\n",
      "Requirement already satisfied: joblib in c:\\programdata\\anaconda3\\lib\\site-packages (from nltk>=3.8->TextBlob) (1.2.0)\n",
      "Requirement already satisfied: regex>=2021.8.3 in c:\\programdata\\anaconda3\\lib\\site-packages (from nltk>=3.8->TextBlob) (2022.7.9)\n",
      "Requirement already satisfied: tqdm in c:\\programdata\\anaconda3\\lib\\site-packages (from nltk>=3.8->TextBlob) (4.65.0)\n",
      "Requirement already satisfied: colorama in c:\\programdata\\anaconda3\\lib\\site-packages (from click->nltk>=3.8->TextBlob) (0.4.6)\n",
      "Downloading textblob-0.18.0.post0-py3-none-any.whl (626 kB)\n",
      "   ---------------------------------------- 0.0/626.3 kB ? eta -:--:--\n",
      "   ------------------------------- ------- 512.0/626.3 kB 10.7 MB/s eta 0:00:01\n",
      "   ---------------------------------------- 626.3/626.3 kB 9.8 MB/s eta 0:00:00\n",
      "Downloading nltk-3.9.1-py3-none-any.whl (1.5 MB)\n",
      "   ---------------------------------------- 0.0/1.5 MB ? eta -:--:--\n",
      "   -------------------------------- ------- 1.2/1.5 MB 39.3 MB/s eta 0:00:01\n",
      "   ---------------------------------------- 1.5/1.5 MB 23.7 MB/s eta 0:00:00\n",
      "Installing collected packages: nltk, TextBlob\n",
      "  Attempting uninstall: nltk\n",
      "    Found existing installation: nltk 3.6.7\n",
      "    Uninstalling nltk-3.6.7:\n",
      "      Successfully uninstalled nltk-3.6.7\n",
      "Successfully installed TextBlob-0.18.0.post0 nltk-3.9.1\n",
      "Defaulting to user installation because normal site-packages is not writeableNote: you may need to restart the kernel to use updated packages.\n",
      "\n",
      "Collecting textblob\n",
      "  Obtaining dependency information for textblob from https://files.pythonhosted.org/packages/02/07/5fd2945356dd839974d3a25de8a142dc37293c21315729a41e775b5f3569/textblob-0.18.0.post0-py3-none-any.whl.metadata\n",
      "  Using cached textblob-0.18.0.post0-py3-none-any.whl.metadata (4.5 kB)\n",
      "Requirement already satisfied: nltk>=3.8 in c:\\users\\tejat\\appdata\\roaming\\python\\python311\\site-packages (from textblob) (3.9.1)\n",
      "Requirement already satisfied: click in c:\\programdata\\anaconda3\\lib\\site-packages (from nltk>=3.8->textblob) (8.0.4)\n",
      "Requirement already satisfied: joblib in c:\\programdata\\anaconda3\\lib\\site-packages (from nltk>=3.8->textblob) (1.2.0)\n",
      "Requirement already satisfied: regex>=2021.8.3 in c:\\programdata\\anaconda3\\lib\\site-packages (from nltk>=3.8->textblob) (2022.7.9)\n",
      "Requirement already satisfied: tqdm in c:\\programdata\\anaconda3\\lib\\site-packages (from nltk>=3.8->textblob) (4.65.0)\n",
      "Requirement already satisfied: colorama in c:\\programdata\\anaconda3\\lib\\site-packages (from click->nltk>=3.8->textblob) (0.4.6)\n",
      "Using cached textblob-0.18.0.post0-py3-none-any.whl (626 kB)\n",
      "Installing collected packages: textblob\n",
      "Successfully installed textblob-0.18.0.post0\n"
     ]
    }
   ],
   "source": [
    "%pip install textblob"
   ]
  },
  {
   "cell_type": "code",
   "execution_count": 14,
   "id": "238c361c",
   "metadata": {},
   "outputs": [],
   "source": [
    "from textblob import TextBlob"
   ]
  },
  {
   "cell_type": "code",
   "execution_count": 15,
   "id": "ff0e1bf8",
   "metadata": {},
   "outputs": [],
   "source": [
    "def polarity(text):\n",
    "    return TextBlob(text).sentiment.polarity"
   ]
  },
  {
   "cell_type": "code",
   "execution_count": 16,
   "id": "ef2d6afd",
   "metadata": {},
   "outputs": [],
   "source": [
    "df['polarity'] = df['Comment'].apply(polarity)"
   ]
  },
  {
   "cell_type": "code",
   "execution_count": 17,
   "id": "5c5435b7",
   "metadata": {},
   "outputs": [
    {
     "data": {
      "text/html": [
       "<div>\n",
       "<style scoped>\n",
       "    .dataframe tbody tr th:only-of-type {\n",
       "        vertical-align: middle;\n",
       "    }\n",
       "\n",
       "    .dataframe tbody tr th {\n",
       "        vertical-align: top;\n",
       "    }\n",
       "\n",
       "    .dataframe thead th {\n",
       "        text-align: right;\n",
       "    }\n",
       "</style>\n",
       "<table border=\"1\" class=\"dataframe\">\n",
       "  <thead>\n",
       "    <tr style=\"text-align: right;\">\n",
       "      <th></th>\n",
       "      <th>Comment</th>\n",
       "      <th>polarity</th>\n",
       "    </tr>\n",
       "  </thead>\n",
       "  <tbody>\n",
       "    <tr>\n",
       "      <th>0</th>\n",
       "      <td>So exciting! Thank you guys so much!</td>\n",
       "      <td>0.312500</td>\n",
       "    </tr>\n",
       "    <tr>\n",
       "      <th>1</th>\n",
       "      <td>those verses go so hard. the queen of songwrit...</td>\n",
       "      <td>-0.145833</td>\n",
       "    </tr>\n",
       "    <tr>\n",
       "      <th>2</th>\n",
       "      <td>we all Know the album gone be fire! we need mo...</td>\n",
       "      <td>0.740625</td>\n",
       "    </tr>\n",
       "    <tr>\n",
       "      <th>3</th>\n",
       "      <td>I miss you Julia Michaels, the vibe of this so...</td>\n",
       "      <td>0.000000</td>\n",
       "    </tr>\n",
       "    <tr>\n",
       "      <th>4</th>\n",
       "      <td>To whoever is listening to this song now, wher...</td>\n",
       "      <td>0.633333</td>\n",
       "    </tr>\n",
       "    <tr>\n",
       "      <th>5</th>\n",
       "      <td>independent juliaaaaa let’s gooooooooo!!!!!!! ...</td>\n",
       "      <td>0.375000</td>\n",
       "    </tr>\n",
       "    <tr>\n",
       "      <th>6</th>\n",
       "      <td>Trumpet player needs more recognition, that wa...</td>\n",
       "      <td>0.333333</td>\n",
       "    </tr>\n",
       "    <tr>\n",
       "      <th>7</th>\n",
       "      <td>Your music will always be seeded inside my sou...</td>\n",
       "      <td>-0.500000</td>\n",
       "    </tr>\n",
       "    <tr>\n",
       "      <th>8</th>\n",
       "      <td>Girlllll where have you been?! Or I have just ...</td>\n",
       "      <td>0.976562</td>\n",
       "    </tr>\n",
       "    <tr>\n",
       "      <th>9</th>\n",
       "      <td>Julia Michaels genuinely one of the most talen...</td>\n",
       "      <td>0.650000</td>\n",
       "    </tr>\n",
       "  </tbody>\n",
       "</table>\n",
       "</div>"
      ],
      "text/plain": [
       "                                             Comment  polarity\n",
       "0               So exciting! Thank you guys so much!  0.312500\n",
       "1  those verses go so hard. the queen of songwrit... -0.145833\n",
       "2  we all Know the album gone be fire! we need mo...  0.740625\n",
       "3  I miss you Julia Michaels, the vibe of this so...  0.000000\n",
       "4  To whoever is listening to this song now, wher...  0.633333\n",
       "5  independent juliaaaaa let’s gooooooooo!!!!!!! ...  0.375000\n",
       "6  Trumpet player needs more recognition, that wa...  0.333333\n",
       "7  Your music will always be seeded inside my sou... -0.500000\n",
       "8  Girlllll where have you been?! Or I have just ...  0.976562\n",
       "9  Julia Michaels genuinely one of the most talen...  0.650000"
      ]
     },
     "execution_count": 17,
     "metadata": {},
     "output_type": "execute_result"
    }
   ],
   "source": [
    "df.head(10)"
   ]
  },
  {
   "cell_type": "code",
   "execution_count": 18,
   "id": "31533c8a",
   "metadata": {},
   "outputs": [],
   "source": [
    "def sentiment(label):\n",
    "    if label <0:\n",
    "        return \"Negative\"\n",
    "    elif label ==0:\n",
    "        return \"Neutral\"\n",
    "    elif label>0:\n",
    "        return \"Positive\""
   ]
  },
  {
   "cell_type": "code",
   "execution_count": 19,
   "id": "5c3d513e",
   "metadata": {},
   "outputs": [],
   "source": [
    "df['sentiment'] = df['polarity'].apply(sentiment)"
   ]
  },
  {
   "cell_type": "code",
   "execution_count": 20,
   "id": "254f618c",
   "metadata": {},
   "outputs": [
    {
     "data": {
      "text/html": [
       "<div>\n",
       "<style scoped>\n",
       "    .dataframe tbody tr th:only-of-type {\n",
       "        vertical-align: middle;\n",
       "    }\n",
       "\n",
       "    .dataframe tbody tr th {\n",
       "        vertical-align: top;\n",
       "    }\n",
       "\n",
       "    .dataframe thead th {\n",
       "        text-align: right;\n",
       "    }\n",
       "</style>\n",
       "<table border=\"1\" class=\"dataframe\">\n",
       "  <thead>\n",
       "    <tr style=\"text-align: right;\">\n",
       "      <th></th>\n",
       "      <th>Comment</th>\n",
       "      <th>polarity</th>\n",
       "      <th>sentiment</th>\n",
       "    </tr>\n",
       "  </thead>\n",
       "  <tbody>\n",
       "    <tr>\n",
       "      <th>0</th>\n",
       "      <td>So exciting! Thank you guys so much!</td>\n",
       "      <td>0.312500</td>\n",
       "      <td>Positive</td>\n",
       "    </tr>\n",
       "    <tr>\n",
       "      <th>1</th>\n",
       "      <td>those verses go so hard. the queen of songwrit...</td>\n",
       "      <td>-0.145833</td>\n",
       "      <td>Negative</td>\n",
       "    </tr>\n",
       "    <tr>\n",
       "      <th>2</th>\n",
       "      <td>we all Know the album gone be fire! we need mo...</td>\n",
       "      <td>0.740625</td>\n",
       "      <td>Positive</td>\n",
       "    </tr>\n",
       "    <tr>\n",
       "      <th>3</th>\n",
       "      <td>I miss you Julia Michaels, the vibe of this so...</td>\n",
       "      <td>0.000000</td>\n",
       "      <td>Neutral</td>\n",
       "    </tr>\n",
       "    <tr>\n",
       "      <th>4</th>\n",
       "      <td>To whoever is listening to this song now, wher...</td>\n",
       "      <td>0.633333</td>\n",
       "      <td>Positive</td>\n",
       "    </tr>\n",
       "  </tbody>\n",
       "</table>\n",
       "</div>"
      ],
      "text/plain": [
       "                                             Comment  polarity sentiment\n",
       "0               So exciting! Thank you guys so much!  0.312500  Positive\n",
       "1  those verses go so hard. the queen of songwrit... -0.145833  Negative\n",
       "2  we all Know the album gone be fire! we need mo...  0.740625  Positive\n",
       "3  I miss you Julia Michaels, the vibe of this so...  0.000000   Neutral\n",
       "4  To whoever is listening to this song now, wher...  0.633333  Positive"
      ]
     },
     "execution_count": 20,
     "metadata": {},
     "output_type": "execute_result"
    }
   ],
   "source": [
    "df.head()"
   ]
  },
  {
   "cell_type": "code",
   "execution_count": 21,
   "id": "071c3566",
   "metadata": {},
   "outputs": [
    {
     "data": {
      "text/plain": [
       "<Axes: xlabel='sentiment', ylabel='count'>"
      ]
     },
     "execution_count": 21,
     "metadata": {},
     "output_type": "execute_result"
    },
    {
     "data": {
      "image/png": "[encoded data removed]",
      "text/plain": [
       "<Figure size 500x500 with 1 Axes>"
      ]
     },
     "metadata": {},
     "output_type": "display_data"
    }
   ],
   "source": [
    "fig = plt.figure(figsize=(5,5))\n",
    "sns.countplot(x='sentiment', data = df)"
   ]
  },
  {
   "cell_type": "code",
   "execution_count": 22,
   "id": "22f55383",
   "metadata": {},
   "outputs": [
    {
     "data": {
      "text/plain": [
       "Text(0.5, 1.0, 'Distribution of sentiments')"
      ]
     },
     "execution_count": 22,
     "metadata": {},
     "output_type": "execute_result"
    },
    {
     "data": {
      "image/png": "[encoded data removed]",
      "text/plain": [
       "<Figure size 700x700 with 1 Axes>"
      ]
     },
     "metadata": {},
     "output_type": "display_data"
    }
   ],
   "source": [
    "fig = plt.figure(figsize=(7,7))\n",
    "colors = (\"gold\", \"yellowgreen\", \"red\")\n",
    "wp = {'linewidth':2, 'edgecolor':\"black\"}\n",
    "tags = df['sentiment'].value_counts()\n",
    "explode = (0.1,0.1,0.1)\n",
    "tags.plot(kind='pie', autopct='%1.1f%%', shadow=True, colors = colors,\n",
    "         startangle=90, wedgeprops = wp, explode = explode, label='')\n",
    "plt.title('Distribution of sentiments')"
   ]
  },
  {
   "cell_type": "code",
   "execution_count": 23,
   "id": "8a4b0748",
   "metadata": {},
   "outputs": [
    {
     "data": {
      "text/html": [
       "<div>\n",
       "<style scoped>\n",
       "    .dataframe tbody tr th:only-of-type {\n",
       "        vertical-align: middle;\n",
       "    }\n",
       "\n",
       "    .dataframe tbody tr th {\n",
       "        vertical-align: top;\n",
       "    }\n",
       "\n",
       "    .dataframe thead th {\n",
       "        text-align: right;\n",
       "    }\n",
       "</style>\n",
       "<table border=\"1\" class=\"dataframe\">\n",
       "  <thead>\n",
       "    <tr style=\"text-align: right;\">\n",
       "      <th></th>\n",
       "      <th>Comment</th>\n",
       "      <th>polarity</th>\n",
       "      <th>sentiment</th>\n",
       "    </tr>\n",
       "  </thead>\n",
       "  <tbody>\n",
       "    <tr>\n",
       "      <th>35</th>\n",
       "      <td>INCREDIBLE song writing!</td>\n",
       "      <td>1.000000</td>\n",
       "      <td>Positive</td>\n",
       "    </tr>\n",
       "    <tr>\n",
       "      <th>33</th>\n",
       "      <td>So Great Song  !!! Thank you  !!!</td>\n",
       "      <td>1.000000</td>\n",
       "      <td>Positive</td>\n",
       "    </tr>\n",
       "    <tr>\n",
       "      <th>8</th>\n",
       "      <td>Girlllll where have you been?! Or I have just ...</td>\n",
       "      <td>0.976562</td>\n",
       "      <td>Positive</td>\n",
       "    </tr>\n",
       "    <tr>\n",
       "      <th>18</th>\n",
       "      <td>One of the best songs released this year! On r...</td>\n",
       "      <td>0.890625</td>\n",
       "      <td>Positive</td>\n",
       "    </tr>\n",
       "    <tr>\n",
       "      <th>16</th>\n",
       "      <td>Aways happy to have Julia drop.</td>\n",
       "      <td>0.800000</td>\n",
       "      <td>Positive</td>\n",
       "    </tr>\n",
       "  </tbody>\n",
       "</table>\n",
       "</div>"
      ],
      "text/plain": [
       "                                              Comment  polarity sentiment\n",
       "35                           INCREDIBLE song writing!  1.000000  Positive\n",
       "33                  So Great Song  !!! Thank you  !!!  1.000000  Positive\n",
       "8   Girlllll where have you been?! Or I have just ...  0.976562  Positive\n",
       "18  One of the best songs released this year! On r...  0.890625  Positive\n",
       "16                    Aways happy to have Julia drop.  0.800000  Positive"
      ]
     },
     "execution_count": 23,
     "metadata": {},
     "output_type": "execute_result"
    }
   ],
   "source": [
    "pos_tweets = df[df.sentiment == 'Positive']\n",
    "pos_tweets = pos_tweets.sort_values(['polarity'], ascending= False)\n",
    "pos_tweets.head()"
   ]
  },
  {
   "cell_type": "code",
   "execution_count": 24,
   "id": "fc45f499",
   "metadata": {},
   "outputs": [
    {
     "data": {
      "text/html": [
       "<div>\n",
       "<style scoped>\n",
       "    .dataframe tbody tr th:only-of-type {\n",
       "        vertical-align: middle;\n",
       "    }\n",
       "\n",
       "    .dataframe tbody tr th {\n",
       "        vertical-align: top;\n",
       "    }\n",
       "\n",
       "    .dataframe thead th {\n",
       "        text-align: right;\n",
       "    }\n",
       "</style>\n",
       "<table border=\"1\" class=\"dataframe\">\n",
       "  <thead>\n",
       "    <tr style=\"text-align: right;\">\n",
       "      <th></th>\n",
       "      <th>Comment</th>\n",
       "      <th>polarity</th>\n",
       "      <th>sentiment</th>\n",
       "    </tr>\n",
       "  </thead>\n",
       "  <tbody>\n",
       "    <tr>\n",
       "      <th>1</th>\n",
       "      <td>those verses go so hard. the queen of songwrit...</td>\n",
       "      <td>-0.145833</td>\n",
       "      <td>Negative</td>\n",
       "    </tr>\n",
       "    <tr>\n",
       "      <th>37</th>\n",
       "      <td>Oh, how we've been missing you baby!</td>\n",
       "      <td>-0.250000</td>\n",
       "      <td>Negative</td>\n",
       "    </tr>\n",
       "    <tr>\n",
       "      <th>7</th>\n",
       "      <td>Your music will always be seeded inside my sou...</td>\n",
       "      <td>-0.500000</td>\n",
       "      <td>Negative</td>\n",
       "    </tr>\n",
       "  </tbody>\n",
       "</table>\n",
       "</div>"
      ],
      "text/plain": [
       "                                              Comment  polarity sentiment\n",
       "1   those verses go so hard. the queen of songwrit... -0.145833  Negative\n",
       "37               Oh, how we've been missing you baby! -0.250000  Negative\n",
       "7   Your music will always be seeded inside my sou... -0.500000  Negative"
      ]
     },
     "execution_count": 24,
     "metadata": {},
     "output_type": "execute_result"
    }
   ],
   "source": [
    "pos_tweets = df[df.sentiment == 'Negative']\n",
    "pos_tweets = pos_tweets.sort_values(['polarity'], ascending= False)\n",
    "pos_tweets.head()"
   ]
  }
 ],
 "metadata": {
  "kernelspec": {
   "display_name": "base",
   "language": "python",
   "name": "python3"
  },
  "language_info": {
   "codemirror_mode": {
    "name": "ipython",
    "version": 3
   },
   "file_extension": ".py",
   "mimetype": "text/x-python",
   "name": "python",
   "nbconvert_exporter": "python",
   "pygments_lexer": "ipython3",
   "version": "3.11.4"
  }
 },
 "nbformat": 4,
 "nbformat_minor": 5
}
