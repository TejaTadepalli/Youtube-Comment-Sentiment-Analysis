{
 "cells": [
  {
   "cell_type": "code",
   "execution_count": 1,
   "id": "a54f088f",
   "metadata": {},
   "outputs": [
    {
     "name": "stdout",
     "output_type": "stream",
     "text": [
      "Enter the link: https://youtu.be/_eH5abTH9H8\n",
      "\n",
      " ►Book a free call with Ditto. Limited slots available - https://bit.ly/41crIfE\n",
      "\n",
      "_____________________________________________________\n",
      "\n",
      "►My stock market course (comes with 1 year community access), here: https://wisdomhatch.com/stock-market/\n",
      "\n",
      " THANK YOU FOR KEEPING US  FINANCIALLY UPDATED SOME OF THE COMMON MISTAKES MADE BY BEGINNER DAY TRADERS INCLUDE TRADING WITHOUT A PLAN, AVERAGING DOWN, RISKING TOO  MUCH ON ONE TRADE, CHASING HOT TRADES, FAILURE TO CUT LOSSES QUICKLY.\n",
      "\n",
      " You are learning yourself and explaining it to others as if you are an expert.\n",
      "Often, your partial knowledge comes through.\n",
      "However, your videos are useful so that we know where you are guessing and where you might be right.\n",
      "All the best.\n",
      "\n",
      " Strong RBI rules for banking liquidity in india...collapse is wrong word for HDFC atleast  for next 10 -15 years...HDFC bank corrected due to merger issue with HDFC.. Strong asset base..less NPAs and strong provisioning against NPA....keep buying PSU Banks for next 5 years\n",
      "\n",
      " 20/30 years back our parents were totally depended on bank interest rate (FD). most of them were government employees. money which they spent to construct a house and for higher education of son/daughter all from FD . That time there was no Domino effect ..\n",
      "\n",
      " One important lesson from Friday share price decrease of HDFC Bank is that, share price doesn't depend on company profit or loss , even how company doing excellent in terms business . Share price only depand on mutual agreement. Which means when group of people agree that price of share is 2000 rs it will increase and when group of people will disagree share price will decrease .same things happened with Adani stock . So it is better to stay away from share market at least you won't lose your capital.\n",
      "\n",
      " I always visit your channel for these detailed macro analyses, excellent Akshat, please keep doing this great job\n",
      "\n",
      " Akshat I think hdfc might go upto 1450 ,and may be added below 1500. Yes it will definitely touch 2200 within 2 years\n",
      "\n",
      " Just do something that will earn you money while you sleep, no matter how little. There's always a risk in every investment , yet people still invest and succeed . You must look outward if you wanna be successful in life\n",
      "\n",
      " \"The boy who shut the bank\"\n",
      "Once in old England there was a village where a boy was roaming around the streets and came accross a bank which was closing down because it was 5pm already. Asking what are you doing the man replied he's closing the bank( only for that particular day and not forever) The boy went on telling everyone that the bank is shutting down. Next day all its depositors qued in front of the bank for their money leading to the bank actually shutting down \n",
      "\n",
      " There is no limit for government securities. I know certain Indian co op banks hold govt security over 50 percent\n",
      "\n",
      " Informative video as always Akshat. HDFC bank sitting on highest profit and highest sales ever. Great time to invest for long term as even FIIs and DIIs will raise their stake. Can’t wait for the merger with HDFC to be completed. It’ll be unstoppable.\n",
      "\n",
      " If HDFC - SBI - ICIC banks - BOB are 4 pillars of Indian economy or banking system \n",
      "If any one of these banks collapse then whole Indian economy will collapse..\n",
      "That’s why these bank will not collapse\n",
      "\n",
      " Thank you for your efforts to make such quality stuff\n",
      "\n",
      " It was linked Msci changing its adjustment factor of 0.5. From 1 for hdfc\n",
      "\n",
      " Hi Akshat, please make a post / video on good ALTCOINS, specifically regarding the right strategy and time to invest\n",
      "\n",
      " Nicely laid out\n",
      "\n",
      " Actually there will no interest rate cut for sure. It will pause for few months. And then if everything looks good there will be cut. I think possibilities of few more going down is possible in USA. Because currently smaller banks are not able to handle the interest rates.\n",
      "\n",
      " Perfect stock picks...much needed\n",
      "\n",
      " HDFC bank has just corrected 6% from ATH. Waiting for further 5% correction to invest for better risk reward.\n",
      "\n",
      " Please make a video on Vauld restructuring and what is your stand on that. \n",
      "\n",
      "What are you gonna do, liquidate or hold your assets on that platform?\n",
      "\n",
      " Don't create panic. Banks and markets in India functions on people's sentiments rather than facts\n",
      "\n",
      " Please also discuss the impact of merger of HDFC with HDFC Bank.\n",
      "\n",
      " Such an important & well researched video. Thanks Akshat for teaching in lucid language on such a complicated topic. I'm learning & enjoying..\n",
      "\n",
      " Little knowledge is not always dangerous. Ask Akshat. This guy has ammased fortune with his tiny knowledge.\n",
      "\n",
      " The loss of SVB was nominal loss and the 50% of money was invested in HTM bonds but sir as you said that loss would have been recovered  in future or  long run So the major cause of failure. Was bank run situation ? \n",
      "Or less diversification  ?\n",
      "\n",
      " So smooth sir  big fan of your art of storytelling and leaving the decision upto the individuals perspective \n",
      "\n",
      " Please do discuss more about Aavas Finance , it's business model and share price recovery\n",
      "\n",
      " Very timely video, as usual. Macro topics in certain cases, but I enjoy your fundamental analysis of stocks and companies most.\n",
      "\n",
      " Wow man missed watching you till a month back. Good one indeed\n",
      "\n",
      " Can you explain how Adhani stocks going to effect SBI and LIC?\n",
      "\n",
      " Appreciate your detailed video. Very informative. Lots of learning for me. Thank you\n",
      "\n",
      " Excellent i like this person very much keep it up\n",
      "My wishes \n",
      "\n",
      " Thanks for the macro part..helpfull\n",
      "\n",
      " High rates will slow an economy eventually. \n",
      "US will see stagflation for 2 years easily, but it will become a high interest rate economy. \n",
      "We will have our mortgage rare north of 4 percent.\n",
      "Also, our 10 year T bonds will be 4 to 5 percent. \n",
      "\n",
      " Good information sir end of vedio u told indirectly tht hdfc is good bank for long term it wil grow up to 2200.\n",
      "\n",
      " Focus is required how governments duped the depositors of banks by erroneous policies loaded by the central bank and finance ministry of the country without accountability and responsibility.\n",
      "\n",
      " Akshat, why our big banks are not going and buying these smaller banks in US. They will automatically get the US licenses. Any view on this.\n"
     ]
    }
   ],
   "source": [
    "link = input('Enter the link: ')\n",
    "comments = []\n",
    "\n",
    "import time\n",
    "from selenium import webdriver\n",
    "from selenium.webdriver import Chrome\n",
    "from selenium.webdriver.common.by import By\n",
    "from selenium.webdriver.common.keys import Keys\n",
    "from selenium.webdriver.support.ui import WebDriverWait\n",
    "from selenium.webdriver.support import expected_conditions as EC\n",
    "\n",
    "\n",
    "op = webdriver.ChromeOptions()\n",
    "op.add_argument('headless')\n",
    "\n",
    "with Chrome(options=op) as driver:\n",
    "    wait = WebDriverWait(driver,10)\n",
    "    driver.get(link)\n",
    "\n",
    "    for item in range(3): #by increasing the highest range you can get more content\n",
    "        wait.until(EC.visibility_of_element_located((By.TAG_NAME, \"body\"))).send_keys(Keys.END)\n",
    "        time.sleep(3)\n",
    "\n",
    "    for comment in wait.until(EC.presence_of_all_elements_located((By.CSS_SELECTOR, \"#comment #content-text\"))):\n",
    "        x = comment.text\n",
    "        comments.append(x)\n",
    "        print(\"\\n\",comment.text)"
   ]
  },
  {
   "cell_type": "code",
   "execution_count": 2,
   "id": "d18369c5",
   "metadata": {},
   "outputs": [],
   "source": [
    "# https://www.youtube.com/watch?v=npFE7NIy574"
   ]
  },
  {
   "cell_type": "code",
   "execution_count": 3,
   "id": "09afdf1e",
   "metadata": {},
   "outputs": [
    {
     "name": "stdout",
     "output_type": "stream",
     "text": [
      "['►Book a free call with Ditto. Limited slots available - https://bit.ly/41crIfE\\n\\n_____________________________________________________\\n\\n►My stock market course (comes with 1 year community access), here: https://wisdomhatch.com/stock-market/', 'THANK YOU FOR KEEPING US  FINANCIALLY UPDATED SOME OF THE COMMON MISTAKES MADE BY BEGINNER DAY TRADERS INCLUDE TRADING WITHOUT A PLAN, AVERAGING DOWN, RISKING TOO  MUCH ON ONE TRADE, CHASING HOT TRADES, FAILURE TO CUT LOSSES QUICKLY.', 'You are learning yourself and explaining it to others as if you are an expert.\\nOften, your partial knowledge comes through.\\nHowever, your videos are useful so that we know where you are guessing and where you might be right.\\nAll the best.', 'Strong RBI rules for banking liquidity in india...collapse is wrong word for HDFC atleast  for next 10 -15 years...HDFC bank corrected due to merger issue with HDFC.. Strong asset base..less NPAs and strong provisioning against NPA....keep buying PSU Banks for next 5 years', '20/30 years back our parents were totally depended on bank interest rate (FD). most of them were government employees. money which they spent to construct a house and for higher education of son/daughter all from FD . That time there was no Domino effect ..', \"One important lesson from Friday share price decrease of HDFC Bank is that, share price doesn't depend on company profit or loss , even how company doing excellent in terms business . Share price only depand on mutual agreement. Which means when group of people agree that price of share is 2000 rs it will increase and when group of people will disagree share price will decrease .same things happened with Adani stock . So it is better to stay away from share market at least you won't lose your capital.\", 'I always visit your channel for these detailed macro analyses, excellent Akshat, please keep doing this great job', 'Akshat I think hdfc might go upto 1450 ,and may be added below 1500. Yes it will definitely touch 2200 within 2 years', \"Just do something that will earn you money while you sleep, no matter how little. There's always a risk in every investment , yet people still invest and succeed . You must look outward if you wanna be successful in life\", '\"The boy who shut the bank\"\\nOnce in old England there was a village where a boy was roaming around the streets and came accross a bank which was closing down because it was 5pm already. Asking what are you doing the man replied he\\'s closing the bank( only for that particular day and not forever) The boy went on telling everyone that the bank is shutting down. Next day all its depositors qued in front of the bank for their money leading to the bank actually shutting down ', 'There is no limit for government securities. I know certain Indian co op banks hold govt security over 50 percent', 'Informative video as always Akshat. HDFC bank sitting on highest profit and highest sales ever. Great time to invest for long term as even FIIs and DIIs will raise their stake. Can’t wait for the merger with HDFC to be completed. It’ll be unstoppable.', 'If HDFC - SBI - ICIC banks - BOB are 4 pillars of Indian economy or banking system \\nIf any one of these banks collapse then whole Indian economy will collapse..\\nThat’s why these bank will not collapse', 'Thank you for your efforts to make such quality stuff', 'It was linked Msci changing its adjustment factor of 0.5. From 1 for hdfc', 'Hi Akshat, please make a post / video on good ALTCOINS, specifically regarding the right strategy and time to invest', 'Nicely laid out', 'Actually there will no interest rate cut for sure. It will pause for few months. And then if everything looks good there will be cut. I think possibilities of few more going down is possible in USA. Because currently smaller banks are not able to handle the interest rates.', 'Perfect stock picks...much needed', 'HDFC bank has just corrected 6% from ATH. Waiting for further 5% correction to invest for better risk reward.', 'Please make a video on Vauld restructuring and what is your stand on that. \\n\\nWhat are you gonna do, liquidate or hold your assets on that platform?', \"Don't create panic. Banks and markets in India functions on people's sentiments rather than facts\", 'Please also discuss the impact of merger of HDFC with HDFC Bank.', \"Such an important & well researched video. Thanks Akshat for teaching in lucid language on such a complicated topic. I'm learning & enjoying..\", 'Little knowledge is not always dangerous. Ask Akshat. This guy has ammased fortune with his tiny knowledge.', 'The loss of SVB was nominal loss and the 50% of money was invested in HTM bonds but sir as you said that loss would have been recovered  in future or  long run So the major cause of failure. Was bank run situation ? \\nOr less diversification  ?', 'So smooth sir  big fan of your art of storytelling and leaving the decision upto the individuals perspective ', \"Please do discuss more about Aavas Finance , it's business model and share price recovery\", 'Very timely video, as usual. Macro topics in certain cases, but I enjoy your fundamental analysis of stocks and companies most.', 'Wow man missed watching you till a month back. Good one indeed', 'Can you explain how Adhani stocks going to effect SBI and LIC?', 'Appreciate your detailed video. Very informative. Lots of learning for me. Thank you', 'Excellent i like this person very much keep it up\\nMy wishes ', 'Thanks for the macro part..helpfull', 'High rates will slow an economy eventually. \\nUS will see stagflation for 2 years easily, but it will become a high interest rate economy. \\nWe will have our mortgage rare north of 4 percent.\\nAlso, our 10 year T bonds will be 4 to 5 percent. ', 'Good information sir end of vedio u told indirectly tht hdfc is good bank for long term it wil grow up to 2200.', 'Focus is required how governments duped the depositors of banks by erroneous policies loaded by the central bank and finance ministry of the country without accountability and responsibility.', 'Akshat, why our big banks are not going and buying these smaller banks in US. They will automatically get the US licenses. Any view on this.']\n"
     ]
    }
   ],
   "source": [
    "print(comments)"
   ]
  },
  {
   "cell_type": "code",
   "execution_count": 4,
   "id": "6b39a543",
   "metadata": {},
   "outputs": [
    {
     "name": "stdout",
     "output_type": "stream",
     "text": [
      "                                              Comment\n",
      "0   ►Book a free call with Ditto. Limited slots av...\n",
      "1   THANK YOU FOR KEEPING US  FINANCIALLY UPDATED ...\n",
      "2   You are learning yourself and explaining it to...\n",
      "3   Strong RBI rules for banking liquidity in indi...\n",
      "4   20/30 years back our parents were totally depe...\n",
      "5   One important lesson from Friday share price d...\n",
      "6   I always visit your channel for these detailed...\n",
      "7   Akshat I think hdfc might go upto 1450 ,and ma...\n",
      "8   Just do something that will earn you money whi...\n",
      "9   \"The boy who shut the bank\"\\nOnce in old Engla...\n",
      "10  There is no limit for government securities. I...\n",
      "11  Informative video as always Akshat. HDFC bank ...\n",
      "12  If HDFC - SBI - ICIC banks - BOB are 4 pillars...\n",
      "13  Thank you for your efforts to make such qualit...\n",
      "14  It was linked Msci changing its adjustment fac...\n",
      "15  Hi Akshat, please make a post / video on good ...\n",
      "16                                    Nicely laid out\n",
      "17  Actually there will no interest rate cut for s...\n",
      "18                  Perfect stock picks...much needed\n",
      "19  HDFC bank has just corrected 6% from ATH. Wait...\n",
      "20  Please make a video on Vauld restructuring and...\n",
      "21  Don't create panic. Banks and markets in India...\n",
      "22  Please also discuss the impact of merger of HD...\n",
      "23  Such an important & well researched video. Tha...\n",
      "24  Little knowledge is not always dangerous. Ask ...\n",
      "25  The loss of SVB was nominal loss and the 50% o...\n",
      "26  So smooth sir  big fan of your art of storytel...\n",
      "27  Please do discuss more about Aavas Finance , i...\n",
      "28  Very timely video, as usual. Macro topics in c...\n",
      "29  Wow man missed watching you till a month back....\n",
      "30  Can you explain how Adhani stocks going to eff...\n",
      "31  Appreciate your detailed video. Very informati...\n",
      "32  Excellent i like this person very much keep it...\n",
      "33                Thanks for the macro part..helpfull\n",
      "34  High rates will slow an economy eventually. \\n...\n",
      "35  Good information sir end of vedio u told indir...\n",
      "36  Focus is required how governments duped the de...\n",
      "37  Akshat, why our big banks are not going and bu...\n"
     ]
    }
   ],
   "source": [
    "import pandas as pd\n",
    "import numpy as np\n",
    "import re\n",
    "import seaborn as sns\n",
    "import matplotlib.pyplot as plt\n",
    "from matplotlib import style\n",
    "style.use('ggplot')\n",
    "from textblob import TextBlob\n",
    "from nltk.tokenize import word_tokenize\n",
    "from nltk.stem import PorterStemmer\n",
    "from nltk.corpus import stopwords\n",
    "stop_words = set(stopwords.words('english'))\n",
    "#from wordcloud import WordCloud\n",
    "from sklearn.feature_extraction.text import CountVectorizer\n",
    "from sklearn.model_selection import train_test_split\n",
    "from sklearn.linear_model import LogisticRegression\n",
    "from sklearn.metrics import accuracy_score, classification_report, confusion_matrix, ConfusionMatrixDisplay\n",
    "df = pd.DataFrame(comments,columns=[\"Comment\"])\n",
    "\n",
    "print(df)"
   ]
  },
  {
   "cell_type": "code",
   "execution_count": 5,
   "id": "772a300b",
   "metadata": {},
   "outputs": [],
   "source": [
    "def data_processing(text):\n",
    "    text = str(text)\n",
    "    if not isinstance(text, str):\n",
    "        return None\n",
    "    text = re.sub(r\"https\\S+|www\\S+https\\S+\", '', text, flags=re.MULTILINE)\n",
    "    ...\n",
    "\n",
    "    \n",
    "    text = text.lower()\n",
    "    text = re.sub(r\"https\\S+|www\\S+https\\S+\", '',text, flags=re.MULTILINE)\n",
    "    text = re.sub(r'\\@w+|\\#','',text)\n",
    "    text = re.sub(r'[^\\w\\s]','',text)\n",
    "    text_tokens = word_tokenize(text)\n",
    "    filtered_text = [w for w in text_tokens if not w in stop_words]\n",
    "    return \" \".join(filtered_text)"
   ]
  },
  {
   "cell_type": "code",
   "execution_count": 6,
   "id": "c50158bb",
   "metadata": {},
   "outputs": [
    {
     "name": "stderr",
     "output_type": "stream",
     "text": [
      "[nltk_data] Downloading package punkt to\n",
      "[nltk_data]     C:\\Users\\piyus\\AppData\\Roaming\\nltk_data...\n",
      "[nltk_data]   Package punkt is already up-to-date!\n",
      "C:\\Users\\piyus\\AppData\\Local\\Temp\\ipykernel_5480\\2968911166.py:4: UserWarning: Pandas doesn't allow columns to be created via a new attribute name - see https://pandas.pydata.org/pandas-docs/stable/indexing.html#attribute-access\n",
      "  df.text = df['Comment'].apply(data_processing)\n"
     ]
    }
   ],
   "source": [
    "import nltk\n",
    "nltk.download('punkt')\n",
    "\n",
    "df.text = df['Comment'].apply(data_processing)"
   ]
  },
  {
   "cell_type": "code",
   "execution_count": 7,
   "id": "2cef7b5e",
   "metadata": {},
   "outputs": [],
   "source": [
    "df = df.drop_duplicates('Comment')"
   ]
  },
  {
   "cell_type": "code",
   "execution_count": 8,
   "id": "c04f5ce2",
   "metadata": {},
   "outputs": [],
   "source": [
    "stemmer = PorterStemmer()\n",
    "def stemming(data):\n",
    "    text = [stemmer.stem(word) for word in data]\n",
    "    return data"
   ]
  },
  {
   "cell_type": "code",
   "execution_count": 9,
   "id": "f831e566",
   "metadata": {},
   "outputs": [],
   "source": [
    "df['Comment'] = df['Comment'].apply(lambda x: stemming(x) if isinstance(x, str) else x)"
   ]
  },
  {
   "cell_type": "code",
   "execution_count": 10,
   "id": "288b3bfb",
   "metadata": {},
   "outputs": [
    {
     "data": {
      "text/html": [
       "<div>\n",
       "<style scoped>\n",
       "    .dataframe tbody tr th:only-of-type {\n",
       "        vertical-align: middle;\n",
       "    }\n",
       "\n",
       "    .dataframe tbody tr th {\n",
       "        vertical-align: top;\n",
       "    }\n",
       "\n",
       "    .dataframe thead th {\n",
       "        text-align: right;\n",
       "    }\n",
       "</style>\n",
       "<table border=\"1\" class=\"dataframe\">\n",
       "  <thead>\n",
       "    <tr style=\"text-align: right;\">\n",
       "      <th></th>\n",
       "      <th>Comment</th>\n",
       "    </tr>\n",
       "  </thead>\n",
       "  <tbody>\n",
       "    <tr>\n",
       "      <th>0</th>\n",
       "      <td>►Book a free call with Ditto. Limited slots av...</td>\n",
       "    </tr>\n",
       "    <tr>\n",
       "      <th>1</th>\n",
       "      <td>THANK YOU FOR KEEPING US  FINANCIALLY UPDATED ...</td>\n",
       "    </tr>\n",
       "    <tr>\n",
       "      <th>2</th>\n",
       "      <td>You are learning yourself and explaining it to...</td>\n",
       "    </tr>\n",
       "    <tr>\n",
       "      <th>3</th>\n",
       "      <td>Strong RBI rules for banking liquidity in indi...</td>\n",
       "    </tr>\n",
       "    <tr>\n",
       "      <th>4</th>\n",
       "      <td>20/30 years back our parents were totally depe...</td>\n",
       "    </tr>\n",
       "  </tbody>\n",
       "</table>\n",
       "</div>"
      ],
      "text/plain": [
       "                                             Comment\n",
       "0  ►Book a free call with Ditto. Limited slots av...\n",
       "1  THANK YOU FOR KEEPING US  FINANCIALLY UPDATED ...\n",
       "2  You are learning yourself and explaining it to...\n",
       "3  Strong RBI rules for banking liquidity in indi...\n",
       "4  20/30 years back our parents were totally depe..."
      ]
     },
     "execution_count": 10,
     "metadata": {},
     "output_type": "execute_result"
    }
   ],
   "source": [
    "df.head()"
   ]
  },
  {
   "cell_type": "code",
   "execution_count": 11,
   "id": "fff76a4b",
   "metadata": {},
   "outputs": [
    {
     "name": "stdout",
     "output_type": "stream",
     "text": [
      "►Book a free call with Ditto. Limited slots available - https://bit.ly/41crIfE\n",
      "\n",
      "_____________________________________________________\n",
      "\n",
      "►My stock market course (comes with 1 year community access), here: https://wisdomhatch.com/stock-market/ \n",
      "\n",
      "THANK YOU FOR KEEPING US  FINANCIALLY UPDATED SOME OF THE COMMON MISTAKES MADE BY BEGINNER DAY TRADERS INCLUDE TRADING WITHOUT A PLAN, AVERAGING DOWN, RISKING TOO  MUCH ON ONE TRADE, CHASING HOT TRADES, FAILURE TO CUT LOSSES QUICKLY. \n",
      "\n",
      "You are learning yourself and explaining it to others as if you are an expert.\n",
      "Often, your partial knowledge comes through.\n",
      "However, your videos are useful so that we know where you are guessing and where you might be right.\n",
      "All the best. \n",
      "\n",
      "Strong RBI rules for banking liquidity in india...collapse is wrong word for HDFC atleast  for next 10 -15 years...HDFC bank corrected due to merger issue with HDFC.. Strong asset base..less NPAs and strong provisioning against NPA....keep buying PSU Banks for next 5 years \n",
      "\n",
      "20/30 years back our parents were totally depended on bank interest rate (FD). most of them were government employees. money which they spent to construct a house and for higher education of son/daughter all from FD . That time there was no Domino effect .. \n",
      "\n"
     ]
    }
   ],
   "source": [
    "print(df['Comment'].iloc[0],\"\\n\")\n",
    "print(df['Comment'].iloc[1],\"\\n\")\n",
    "print(df['Comment'].iloc[2],\"\\n\")\n",
    "print(df['Comment'].iloc[3],\"\\n\")\n",
    "print(df['Comment'].iloc[4],\"\\n\")"
   ]
  },
  {
   "cell_type": "code",
   "execution_count": 12,
   "id": "ff7dd90a",
   "metadata": {},
   "outputs": [],
   "source": [
    "df['Comment'].fillna('', inplace=True)"
   ]
  },
  {
   "cell_type": "code",
   "execution_count": 13,
   "id": "ff0e1bf8",
   "metadata": {},
   "outputs": [],
   "source": [
    "def polarity(text):\n",
    "    return TextBlob(text).sentiment.polarity"
   ]
  },
  {
   "cell_type": "code",
   "execution_count": 14,
   "id": "ef2d6afd",
   "metadata": {},
   "outputs": [],
   "source": [
    "df['polarity'] = df['Comment'].apply(polarity)"
   ]
  },
  {
   "cell_type": "code",
   "execution_count": 15,
   "id": "5c5435b7",
   "metadata": {},
   "outputs": [
    {
     "data": {
      "text/html": [
       "<div>\n",
       "<style scoped>\n",
       "    .dataframe tbody tr th:only-of-type {\n",
       "        vertical-align: middle;\n",
       "    }\n",
       "\n",
       "    .dataframe tbody tr th {\n",
       "        vertical-align: top;\n",
       "    }\n",
       "\n",
       "    .dataframe thead th {\n",
       "        text-align: right;\n",
       "    }\n",
       "</style>\n",
       "<table border=\"1\" class=\"dataframe\">\n",
       "  <thead>\n",
       "    <tr style=\"text-align: right;\">\n",
       "      <th></th>\n",
       "      <th>Comment</th>\n",
       "      <th>polarity</th>\n",
       "    </tr>\n",
       "  </thead>\n",
       "  <tbody>\n",
       "    <tr>\n",
       "      <th>0</th>\n",
       "      <td>►Book a free call with Ditto. Limited slots av...</td>\n",
       "      <td>0.242857</td>\n",
       "    </tr>\n",
       "    <tr>\n",
       "      <th>1</th>\n",
       "      <td>THANK YOU FOR KEEPING US  FINANCIALLY UPDATED ...</td>\n",
       "      <td>0.001587</td>\n",
       "    </tr>\n",
       "    <tr>\n",
       "      <th>2</th>\n",
       "      <td>You are learning yourself and explaining it to...</td>\n",
       "      <td>0.371429</td>\n",
       "    </tr>\n",
       "    <tr>\n",
       "      <th>3</th>\n",
       "      <td>Strong RBI rules for banking liquidity in indi...</td>\n",
       "      <td>0.096429</td>\n",
       "    </tr>\n",
       "    <tr>\n",
       "      <th>4</th>\n",
       "      <td>20/30 years back our parents were totally depe...</td>\n",
       "      <td>0.130000</td>\n",
       "    </tr>\n",
       "    <tr>\n",
       "      <th>5</th>\n",
       "      <td>One important lesson from Friday share price d...</td>\n",
       "      <td>0.320000</td>\n",
       "    </tr>\n",
       "    <tr>\n",
       "      <th>6</th>\n",
       "      <td>I always visit your channel for these detailed...</td>\n",
       "      <td>0.733333</td>\n",
       "    </tr>\n",
       "    <tr>\n",
       "      <th>7</th>\n",
       "      <td>Akshat I think hdfc might go upto 1450 ,and ma...</td>\n",
       "      <td>0.000000</td>\n",
       "    </tr>\n",
       "    <tr>\n",
       "      <th>8</th>\n",
       "      <td>Just do something that will earn you money whi...</td>\n",
       "      <td>0.281250</td>\n",
       "    </tr>\n",
       "    <tr>\n",
       "      <th>9</th>\n",
       "      <td>\"The boy who shut the bank\"\\nOnce in old Engla...</td>\n",
       "      <td>-0.025000</td>\n",
       "    </tr>\n",
       "  </tbody>\n",
       "</table>\n",
       "</div>"
      ],
      "text/plain": [
       "                                             Comment  polarity\n",
       "0  ►Book a free call with Ditto. Limited slots av...  0.242857\n",
       "1  THANK YOU FOR KEEPING US  FINANCIALLY UPDATED ...  0.001587\n",
       "2  You are learning yourself and explaining it to...  0.371429\n",
       "3  Strong RBI rules for banking liquidity in indi...  0.096429\n",
       "4  20/30 years back our parents were totally depe...  0.130000\n",
       "5  One important lesson from Friday share price d...  0.320000\n",
       "6  I always visit your channel for these detailed...  0.733333\n",
       "7  Akshat I think hdfc might go upto 1450 ,and ma...  0.000000\n",
       "8  Just do something that will earn you money whi...  0.281250\n",
       "9  \"The boy who shut the bank\"\\nOnce in old Engla... -0.025000"
      ]
     },
     "execution_count": 15,
     "metadata": {},
     "output_type": "execute_result"
    }
   ],
   "source": [
    "df.head(10)"
   ]
  },
  {
   "cell_type": "code",
   "execution_count": 16,
   "id": "31533c8a",
   "metadata": {},
   "outputs": [],
   "source": [
    "def sentiment(label):\n",
    "    if label <0:\n",
    "        return \"Negative\"\n",
    "    elif label ==0:\n",
    "        return \"Neutral\"\n",
    "    elif label>0:\n",
    "        return \"Positive\""
   ]
  },
  {
   "cell_type": "code",
   "execution_count": 17,
   "id": "5c3d513e",
   "metadata": {},
   "outputs": [],
   "source": [
    "df['sentiment'] = df['polarity'].apply(sentiment)"
   ]
  },
  {
   "cell_type": "code",
   "execution_count": 18,
   "id": "254f618c",
   "metadata": {},
   "outputs": [
    {
     "data": {
      "text/html": [
       "<div>\n",
       "<style scoped>\n",
       "    .dataframe tbody tr th:only-of-type {\n",
       "        vertical-align: middle;\n",
       "    }\n",
       "\n",
       "    .dataframe tbody tr th {\n",
       "        vertical-align: top;\n",
       "    }\n",
       "\n",
       "    .dataframe thead th {\n",
       "        text-align: right;\n",
       "    }\n",
       "</style>\n",
       "<table border=\"1\" class=\"dataframe\">\n",
       "  <thead>\n",
       "    <tr style=\"text-align: right;\">\n",
       "      <th></th>\n",
       "      <th>Comment</th>\n",
       "      <th>polarity</th>\n",
       "      <th>sentiment</th>\n",
       "    </tr>\n",
       "  </thead>\n",
       "  <tbody>\n",
       "    <tr>\n",
       "      <th>0</th>\n",
       "      <td>►Book a free call with Ditto. Limited slots av...</td>\n",
       "      <td>0.242857</td>\n",
       "      <td>Positive</td>\n",
       "    </tr>\n",
       "    <tr>\n",
       "      <th>1</th>\n",
       "      <td>THANK YOU FOR KEEPING US  FINANCIALLY UPDATED ...</td>\n",
       "      <td>0.001587</td>\n",
       "      <td>Positive</td>\n",
       "    </tr>\n",
       "    <tr>\n",
       "      <th>2</th>\n",
       "      <td>You are learning yourself and explaining it to...</td>\n",
       "      <td>0.371429</td>\n",
       "      <td>Positive</td>\n",
       "    </tr>\n",
       "    <tr>\n",
       "      <th>3</th>\n",
       "      <td>Strong RBI rules for banking liquidity in indi...</td>\n",
       "      <td>0.096429</td>\n",
       "      <td>Positive</td>\n",
       "    </tr>\n",
       "    <tr>\n",
       "      <th>4</th>\n",
       "      <td>20/30 years back our parents were totally depe...</td>\n",
       "      <td>0.130000</td>\n",
       "      <td>Positive</td>\n",
       "    </tr>\n",
       "  </tbody>\n",
       "</table>\n",
       "</div>"
      ],
      "text/plain": [
       "                                             Comment  polarity sentiment\n",
       "0  ►Book a free call with Ditto. Limited slots av...  0.242857  Positive\n",
       "1  THANK YOU FOR KEEPING US  FINANCIALLY UPDATED ...  0.001587  Positive\n",
       "2  You are learning yourself and explaining it to...  0.371429  Positive\n",
       "3  Strong RBI rules for banking liquidity in indi...  0.096429  Positive\n",
       "4  20/30 years back our parents were totally depe...  0.130000  Positive"
      ]
     },
     "execution_count": 18,
     "metadata": {},
     "output_type": "execute_result"
    }
   ],
   "source": [
    "df.head()"
   ]
  },
  {
   "cell_type": "code",
   "execution_count": 19,
   "id": "071c3566",
   "metadata": {},
   "outputs": [
    {
     "data": {
      "text/plain": [
       "<Axes: xlabel='sentiment', ylabel='count'>"
      ]
     },
     "execution_count": 19,
     "metadata": {},
     "output_type": "execute_result"
    },
    {
     "data": {
      "image/png": "[encoded data removed]",
      "text/plain": [
       "<Figure size 500x500 with 1 Axes>"
      ]
     },
     "metadata": {},
     "output_type": "display_data"
    }
   ],
   "source": [
    "fig = plt.figure(figsize=(5,5))\n",
    "sns.countplot(x='sentiment', data = df)"
   ]
  },
  {
   "cell_type": "code",
   "execution_count": 20,
   "id": "22f55383",
   "metadata": {},
   "outputs": [
    {
     "data": {
      "text/plain": [
       "Text(0.5, 1.0, 'Distribution of sentiments')"
      ]
     },
     "execution_count": 20,
     "metadata": {},
     "output_type": "execute_result"
    },
    {
     "data": {
      "image/png": "[encoded data removed]",
      "text/plain": [
       "<Figure size 700x700 with 1 Axes>"
      ]
     },
     "metadata": {},
     "output_type": "display_data"
    }
   ],
   "source": [
    "fig = plt.figure(figsize=(7,7))\n",
    "colors = (\"gold\", \"yellowgreen\", \"red\")\n",
    "wp = {'linewidth':2, 'edgecolor':\"black\"}\n",
    "tags = df['sentiment'].value_counts()\n",
    "explode = (0.1,0.1,0.1)\n",
    "tags.plot(kind='pie', autopct='%1.1f%%', shadow=True, colors = colors,\n",
    "         startangle=90, wedgeprops = wp, explode = explode, label='')\n",
    "plt.title('Distribution of sentiments')"
   ]
  },
  {
   "cell_type": "code",
   "execution_count": 21,
   "id": "8a4b0748",
   "metadata": {},
   "outputs": [
    {
     "data": {
      "text/html": [
       "<div>\n",
       "<style scoped>\n",
       "    .dataframe tbody tr th:only-of-type {\n",
       "        vertical-align: middle;\n",
       "    }\n",
       "\n",
       "    .dataframe tbody tr th {\n",
       "        vertical-align: top;\n",
       "    }\n",
       "\n",
       "    .dataframe thead th {\n",
       "        text-align: right;\n",
       "    }\n",
       "</style>\n",
       "<table border=\"1\" class=\"dataframe\">\n",
       "  <thead>\n",
       "    <tr style=\"text-align: right;\">\n",
       "      <th></th>\n",
       "      <th>Comment</th>\n",
       "      <th>polarity</th>\n",
       "      <th>sentiment</th>\n",
       "    </tr>\n",
       "  </thead>\n",
       "  <tbody>\n",
       "    <tr>\n",
       "      <th>18</th>\n",
       "      <td>Perfect stock picks...much needed</td>\n",
       "      <td>1.000000</td>\n",
       "      <td>Positive</td>\n",
       "    </tr>\n",
       "    <tr>\n",
       "      <th>6</th>\n",
       "      <td>I always visit your channel for these detailed...</td>\n",
       "      <td>0.733333</td>\n",
       "      <td>Positive</td>\n",
       "    </tr>\n",
       "    <tr>\n",
       "      <th>32</th>\n",
       "      <td>Excellent i like this person very much keep it...</td>\n",
       "      <td>0.630000</td>\n",
       "      <td>Positive</td>\n",
       "    </tr>\n",
       "    <tr>\n",
       "      <th>16</th>\n",
       "      <td>Nicely laid out</td>\n",
       "      <td>0.600000</td>\n",
       "      <td>Positive</td>\n",
       "    </tr>\n",
       "    <tr>\n",
       "      <th>27</th>\n",
       "      <td>Please do discuss more about Aavas Finance , i...</td>\n",
       "      <td>0.500000</td>\n",
       "      <td>Positive</td>\n",
       "    </tr>\n",
       "  </tbody>\n",
       "</table>\n",
       "</div>"
      ],
      "text/plain": [
       "                                              Comment  polarity sentiment\n",
       "18                  Perfect stock picks...much needed  1.000000  Positive\n",
       "6   I always visit your channel for these detailed...  0.733333  Positive\n",
       "32  Excellent i like this person very much keep it...  0.630000  Positive\n",
       "16                                    Nicely laid out  0.600000  Positive\n",
       "27  Please do discuss more about Aavas Finance , i...  0.500000  Positive"
      ]
     },
     "execution_count": 21,
     "metadata": {},
     "output_type": "execute_result"
    }
   ],
   "source": [
    "pos_tweets = df[df.sentiment == 'Positive']\n",
    "pos_tweets = pos_tweets.sort_values(['polarity'], ascending= False)\n",
    "pos_tweets.head()"
   ]
  },
  {
   "cell_type": "code",
   "execution_count": 22,
   "id": "fc45f499",
   "metadata": {},
   "outputs": [
    {
     "data": {
      "text/html": [
       "<div>\n",
       "<style scoped>\n",
       "    .dataframe tbody tr th:only-of-type {\n",
       "        vertical-align: middle;\n",
       "    }\n",
       "\n",
       "    .dataframe tbody tr th {\n",
       "        vertical-align: top;\n",
       "    }\n",
       "\n",
       "    .dataframe thead th {\n",
       "        text-align: right;\n",
       "    }\n",
       "</style>\n",
       "<table border=\"1\" class=\"dataframe\">\n",
       "  <thead>\n",
       "    <tr style=\"text-align: right;\">\n",
       "      <th></th>\n",
       "      <th>Comment</th>\n",
       "      <th>polarity</th>\n",
       "      <th>sentiment</th>\n",
       "    </tr>\n",
       "  </thead>\n",
       "  <tbody>\n",
       "    <tr>\n",
       "      <th>9</th>\n",
       "      <td>\"The boy who shut the bank\"\\nOnce in old Engla...</td>\n",
       "      <td>-0.025000</td>\n",
       "      <td>Negative</td>\n",
       "    </tr>\n",
       "    <tr>\n",
       "      <th>25</th>\n",
       "      <td>The loss of SVB was nominal loss and the 50% o...</td>\n",
       "      <td>-0.094167</td>\n",
       "      <td>Negative</td>\n",
       "    </tr>\n",
       "    <tr>\n",
       "      <th>36</th>\n",
       "      <td>Focus is required how governments duped the de...</td>\n",
       "      <td>-0.250000</td>\n",
       "      <td>Negative</td>\n",
       "    </tr>\n",
       "    <tr>\n",
       "      <th>24</th>\n",
       "      <td>Little knowledge is not always dangerous. Ask ...</td>\n",
       "      <td>-0.262500</td>\n",
       "      <td>Negative</td>\n",
       "    </tr>\n",
       "  </tbody>\n",
       "</table>\n",
       "</div>"
      ],
      "text/plain": [
       "                                              Comment  polarity sentiment\n",
       "9   \"The boy who shut the bank\"\\nOnce in old Engla... -0.025000  Negative\n",
       "25  The loss of SVB was nominal loss and the 50% o... -0.094167  Negative\n",
       "36  Focus is required how governments duped the de... -0.250000  Negative\n",
       "24  Little knowledge is not always dangerous. Ask ... -0.262500  Negative"
      ]
     },
     "execution_count": 22,
     "metadata": {},
     "output_type": "execute_result"
    }
   ],
   "source": [
    "pos_tweets = df[df.sentiment == 'Negative']\n",
    "pos_tweets = pos_tweets.sort_values(['polarity'], ascending= False)\n",
    "pos_tweets.head()"
   ]
  },
  {
   "cell_type": "code",
   "execution_count": null,
   "id": "191af935",
   "metadata": {},
   "outputs": [],
   "source": []
  }
 ],
 "metadata": {
  "kernelspec": {
   "display_name": "Python 3 (ipykernel)",
   "language": "python",
   "name": "python3"
  },
  "language_info": {
   "codemirror_mode": {
    "name": "ipython",
    "version": 3
   },
   "file_extension": ".py",
   "mimetype": "text/x-python",
   "name": "python",
   "nbconvert_exporter": "python",
   "pygments_lexer": "ipython3",
   "version": "3.11.1"
  }
 },
 "nbformat": 4,
 "nbformat_minor": 5
}
